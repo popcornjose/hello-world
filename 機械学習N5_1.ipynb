{
  "nbformat": 4,
  "nbformat_minor": 0,
  "metadata": {
    "colab": {
      "name": "機械学習N5-1.ipynb",
      "version": "0.3.2",
      "provenance": [],
      "toc_visible": true,
      "include_colab_link": true
    },
    "kernelspec": {
      "display_name": "Python 3",
      "language": "python",
      "name": "python3"
    }
  },
  "cells": [
    {
      "cell_type": "markdown",
      "metadata": {
        "id": "view-in-github",
        "colab_type": "text"
      },
      "source": [
        "<a href=\"https://colab.research.google.com/github/popcornjose/hello-world/blob/master/%E6%A9%9F%E6%A2%B0%E5%AD%A6%E7%BF%92N5_1.ipynb\" target=\"_parent\"><img src=\"https://colab.research.google.com/assets/colab-badge.svg\" alt=\"Open In Colab\"/></a>"
      ]
    },
    {
      "metadata": {
        "id": "PNdL0yw5PHVV",
        "colab_type": "text"
      },
      "cell_type": "markdown",
      "source": [
        "## １次元入力の直線モデル\n",
        "\n",
        "例：年齢ｘと身長ｔのセットのデータ１６人分を考える。\n",
        "\n",
        "$$\n",
        "  x = \\left[\n",
        "    \\begin{array}{c}\n",
        "      x_0  \\\\\n",
        "      x_1 \\\\\n",
        "      \\vdots \\\\\n",
        "      x_n \\\\\n",
        "      \\vdots \\\\\n",
        "      x_{N-1} \\\\\n",
        "    \\end{array}\n",
        "  \\right]\n",
        "  \\hspace{15pt}\n",
        "  t = \\left[\n",
        "    \\begin{array}{c}\n",
        "      t_0  \\\\\n",
        "      t_1 \\\\\n",
        "      \\vdots \\\\\n",
        "      t_n \\\\\n",
        "      \\vdots \\\\\n",
        "      t_{N-1} \\\\\n",
        "    \\end{array}\n",
        "  \\right]　　　　　　　　ーーーーーーー①\n",
        "$$\n",
        "\n",
        "通常１からNの数字をデータに当てはめるが,Pythonの配列変数にあわせてN個のデータに\n",
        "０からN-1までの数字を割り振る。\n",
        "\n",
        "この時、$x_nを[入力変数],t_nを[目標変数]$（ターゲット）と呼ぶ。\n",
        "\n",
        "また、ｘを入力データ、ｔを目的データとよぶものとする。\n",
        "\n",
        "目的は、データベースにない人の年齢ｘに対してその人の身長ｔを予測することです。\n",
        "\n",
        "先ずPythonによるサンプルデータの作成"
      ]
    },
    {
      "metadata": {
        "id": "qqym9w60PHVW",
        "colab_type": "code",
        "colab": {}
      },
      "cell_type": "code",
      "source": [
        "# リスト５−１−(1)\n",
        "\n",
        "import numpy as np\n",
        "import matplotlib.pyplot as plt\n",
        "%matplotlib inline\n",
        "\n",
        "np.random.seed(seed=1)   # 乱数固定\n",
        "X_min = 4                # ｘの下限（表示用）\n",
        "X_max = 30               # ｘの上限（表示用）\n",
        "X_n = 16                 # データの個数\n",
        "X = 5 + 25 * np.random.rand(X_n)\n",
        "Prm_c = [170, 108, 0.2]  # 生成パラメータ\n",
        "T = Prm_c[0] - Prm_c[1] * np.exp(-Prm_c[2] * X) + 4 * np.random.randn(X_n)     # (A)変数ｘによるTの値\n",
        "                                                                               # T=170-108*exp(108*X)+4*x\n",
        "np.savez('ch5_data.npz', X=X, X_min=X_min, X_max=X_max, X_n=X_n, T=T)          # (B)　データ保存"
      ],
      "execution_count": 0,
      "outputs": []
    },
    {
      "metadata": {
        "id": "MVrlqNwJPHVn",
        "colab_type": "code",
        "outputId": "0b949bb0-0c9a-4ecd-bea3-56efd27061f3",
        "colab": {
          "base_uri": "https://localhost:8080/",
          "height": 67
        }
      },
      "cell_type": "code",
      "source": [
        "# リスト５−１−(2)\n",
        "\n",
        "print(X)"
      ],
      "execution_count": 5,
      "outputs": [
        {
          "output_type": "stream",
          "text": [
            "[15.42555012 23.00811234  5.00285937 12.55831432  8.66889727  7.30846487\n",
            "  9.65650528 13.63901818 14.91918686 18.47041835 15.47986286 22.13048751\n",
            " 10.11130624 26.95293591  5.68468983 21.76168775]\n"
          ],
          "name": "stdout"
        }
      ]
    },
    {
      "metadata": {
        "id": "Ag_tFMNXPHVa",
        "colab_type": "code",
        "outputId": "9a62f468-5449-42fb-cc1c-14f9d302fc5a",
        "colab": {
          "base_uri": "https://localhost:8080/",
          "height": 50
        }
      },
      "cell_type": "code",
      "source": [
        "# リスト５−１−(3)\n",
        "\n",
        "print(np.round(X,2))     # Xの値を見る"
      ],
      "execution_count": 2,
      "outputs": [
        {
          "output_type": "stream",
          "text": [
            "[15.43 23.01  5.   12.56  8.67  7.31  9.66 13.64 14.92 18.47 15.48 22.13\n",
            " 10.11 26.95  5.68 21.76]\n"
          ],
          "name": "stdout"
        }
      ]
    },
    {
      "metadata": {
        "id": "nLVbBhSBPHVf",
        "colab_type": "code",
        "outputId": "5b7c6e47-2ee1-4291-e2bf-5dd25aab9cf4",
        "colab": {
          "base_uri": "https://localhost:8080/",
          "height": 50
        }
      },
      "cell_type": "code",
      "source": [
        "# リスト　５−１−(4)\n",
        "\n",
        "print(np.round(T,2))     # Tの値を見る"
      ],
      "execution_count": 3,
      "outputs": [
        {
          "output_type": "stream",
          "text": [
            "[170.91 160.68 129.   159.7  155.46 140.56 153.65 159.43 164.7  169.65\n",
            " 160.71 173.29 159.31 171.52 138.96 165.87]\n"
          ],
          "name": "stdout"
        }
      ]
    },
    {
      "metadata": {
        "id": "446rkXO3PHVi",
        "colab_type": "code",
        "outputId": "d739a9c2-3be8-4bf2-e59e-ab8fd6af8840",
        "colab": {
          "base_uri": "https://localhost:8080/",
          "height": 279
        }
      },
      "cell_type": "code",
      "source": [
        "# リスト　５−１−(5)\n",
        "\n",
        "# データのグラフ表示\n",
        "\n",
        "plt.figure(figsize=(4,4))\n",
        "plt.plot(X, T, marker='o', linestyle='None', markeredgecolor='black', color='cornflowerblue')\n",
        "\n",
        "plt.xlim(X_min, X_max)\n",
        "plt.grid(True)\n",
        "plt.xlabel('X:Age')\n",
        "plt.ylabel('T:Tall')\n",
        "plt.show()"
      ],
      "execution_count": 15,
      "outputs": [
        {
          "output_type": "display_data",
          "data": {
            "image/png": "[encoded data removed]",
            "text/plain": [
              "<matplotlib.figure.Figure at 0x7efcd6a101d0>"
            ]
          },
          "metadata": {
            "tags": []
          }
        }
      ]
    },
    {
      "metadata": {
        "id": "N774aKqvPHVm",
        "colab_type": "text"
      },
      "cell_type": "markdown",
      "source": [
        "リスト５−１−(1)で１６人分の年齢Xをランダムに決定し、（A)によってXからTを決定している。\n",
        "\n",
        "（B）では生成したデータを'ch5_data.npz'に保存している。次のリストによりそのデータを読み取る。"
      ]
    },
    {
      "metadata": {
        "id": "2vfHQpcWPHVp",
        "colab_type": "code",
        "outputId": "c917f374-b881-4435-af4d-d6a2d8d4ef7d",
        "colab": {
          "base_uri": "https://localhost:8080/",
          "height": 50
        }
      },
      "cell_type": "code",
      "source": [
        "# リスト　５−１−(3)\n",
        "\n",
        "print(np.round(X,2))"
      ],
      "execution_count": 6,
      "outputs": [
        {
          "output_type": "stream",
          "text": [
            "[15.43 23.01  5.   12.56  8.67  7.31  9.66 13.64 14.92 18.47 15.48 22.13\n",
            " 10.11 26.95  5.68 21.76]\n"
          ],
          "name": "stdout"
        }
      ]
    },
    {
      "metadata": {
        "id": "tjf2Lu01PHVs",
        "colab_type": "code",
        "outputId": "aa18d2e1-8ac3-45ff-b270-31605e5d68d7",
        "colab": {
          "base_uri": "https://localhost:8080/",
          "height": 50
        }
      },
      "cell_type": "code",
      "source": [
        "# リスト　５−１−(4)\n",
        "\n",
        "print(np.round(T,2))     # 身長Tを表示"
      ],
      "execution_count": 7,
      "outputs": [
        {
          "output_type": "stream",
          "text": [
            "[170.91 160.68 129.   159.7  155.46 140.56 153.65 159.43 164.7  169.65\n",
            " 160.71 173.29 159.31 171.52 138.96 165.87]\n"
          ],
          "name": "stdout"
        }
      ]
    },
    {
      "metadata": {
        "id": "P-JufWYEPHVw",
        "colab_type": "code",
        "outputId": "250192cf-7b02-43d0-9c05-c58562b90622",
        "colab": {
          "base_uri": "https://localhost:8080/",
          "height": 279
        }
      },
      "cell_type": "code",
      "source": [
        "# リスト　５−１−(5)\n",
        "\n",
        "# XとTのデータグラフの表示\n",
        "\n",
        "plt.figure(figsize=(4,4))\n",
        "plt.plot(X, T, marker='o', linestyle='None',\n",
        "        markeredgecolor='black', color='cornflowerblue')\n",
        "plt.xlim(X_min, X_max)\n",
        "plt.grid(True)\n",
        "plt.xlabel('X:Age')\n",
        "plt.ylabel('T:Tall')\n",
        "plt.show()"
      ],
      "execution_count": 8,
      "outputs": [
        {
          "output_type": "display_data",
          "data": {
            "image/png": "[encoded data removed]",
            "text/plain": [
              "<matplotlib.figure.Figure at 0x7efcd936de48>"
            ]
          },
          "metadata": {
            "tags": []
          }
        }
      ]
    },
    {
      "metadata": {
        "id": "s8CtvYyRPHV3",
        "colab_type": "text"
      },
      "cell_type": "markdown",
      "source": [
        "## 直線モデル\n",
        "\n",
        "データにバラつきがあるが、この与えられたデータ上に直線を引くことであらゆるｘに対してそれらしいｔを予測をするこができる。\n",
        "\n",
        "この直線式は、\n",
        "$$\n",
        "y(x)=w_0x+w_1　　　　　  ーーーーー②\n",
        "$$\n",
        "\n",
        "傾きを表す$w_0と切片を表すw_1$に適当な値を入れれば、様々な位置や傾きの直線が作れる。\n",
        "\n",
        "$y(x)$はｘに対するｔの予測値とみなすことができ、この式を直線モデルと呼ぶ。\n",
        "\n",
        "この直線がデータに合うようにするには、$w_0とw_1$をどのようにきめればよいか。"
      ]
    },
    {
      "metadata": {
        "id": "SbDaX9xQPHV3",
        "colab_type": "text"
      },
      "cell_type": "markdown",
      "source": [
        "## 二乗誤差関数\n",
        "\n",
        "データに似合う目安として、次の式、誤差Jを定義する。\n",
        "\n",
        "ここでは、平均二乗誤差(Mean Squire Error:MSE)、直線とデータ点の差の二乗の平均を利用する。\n",
        "\n",
        "$$\n",
        "J=\\frac{1}{N}\\sum_{n=0}^{N-1}(y_n-t_n)^2     ----------③\n",
        "$$\n",
        "\n",
        "ここで、$y_nは直線モデルにx_n$を入れた時の出力を表す。\n",
        "$$\n",
        "y_n=y(x_n)=w_0x_n+w_1　　　　　　　ーーーーーーーーー④\n",
        "$$\n",
        "\n",
        "$w_0とw_1$を決めると、それに対する平均二乗誤差Jを計算することができるが、データが直線上にならんでいないので、Jが完全に０になることはない。\n",
        "\n",
        "このw と J の関係をグラフに表してみる。"
      ]
    },
    {
      "metadata": {
        "id": "Uu2q2a12PHV4",
        "colab_type": "code",
        "outputId": "93ac1706-6e90-4602-9b5c-ea58ff65907d",
        "colab": {
          "base_uri": "https://localhost:8080/",
          "height": 288
        }
      },
      "cell_type": "code",
      "source": [
        "# リスト５−１−(5)\n",
        "\n",
        "from mpl_toolkits.mplot3d import Axes3D\n",
        "\n",
        "# 平均誤差関数ーーーーーーーーーーーー\n",
        "\n",
        "def mse_line(x,t, w):\n",
        "    y = w[0] * x + w[1]\n",
        "    mse = np.mean((y - t)**2)\n",
        "    return mse\n",
        "\n",
        "# 計算ーーーーーーーーーーーーーーーーー\n",
        "xn = 100      # 等高線表示の解像度\n",
        "w0_range = [-25, 25]\n",
        "w1_range = [120, 170]\n",
        "x0 = np.linspace(w0_range[0], w0_range[1], xn)\n",
        "x1 = np.linspace(w1_range[0], w1_range[1], xn)\n",
        "xx0, xx1 = np.meshgrid(x0, x1)\n",
        "J = np.zeros((len(x0), len(x1)))\n",
        "for i0 in range(xn):\n",
        "    for i1 in range(xn):\n",
        "        J[i1, i0] = mse_line(X, T, (x0[i0], x1[i1]))\n",
        "        \n",
        "# 表示　ーーーーーーーーーーーーーーーーー\n",
        "plt.figure(figsize=(9.5, 4))\n",
        "plt.subplots_adjust(wspace=0.5)\n",
        "\n",
        "ax = plt.subplot(1, 2, 1, projection='3d')\n",
        "ax.plot_surface(xx0, xx1, J, rstride=10, cstride=10, alpha=0.3,\n",
        "               color='blue', edgecolor='black')\n",
        "ax.set_xticks([-20, 0, 20])\n",
        "ax.set_yticks([120, 140, 160])\n",
        "ax.set_xlabel('$w_0$', fontsize=14)\n",
        "ax.set_ylabel('$w_1$', fontsize=14)\n",
        "ax.view_init(20, -60)\n",
        "\n",
        "plt.subplot(1, 2, 2)\n",
        "cont = plt.contour(xx0, xx1, J, 30, colors='black',\n",
        "                  levels=[100, 1000, 10000, 100000])\n",
        "cont.clabel(fmt='%1.0f', fontsize=8)\n",
        "plt.xlabel('$w_0$', fontsize=14)\n",
        "plt.ylabel('$w_1$', fontsize=14)\n",
        "plt.grid(True)\n",
        "plt.show()"
      ],
      "execution_count": 9,
      "outputs": [
        {
          "output_type": "display_data",
          "data": {
            "image/png": "[encoded data removed]",
            "text/plain": [
              "<matplotlib.figure.Figure at 0x7efcd6a10e10>"
            ]
          },
          "metadata": {
            "tags": []
          }
        }
      ]
    },
    {
      "metadata": {
        "id": "yN_ggZrhPHV6",
        "colab_type": "text"
      },
      "cell_type": "markdown",
      "source": [
        "Jが最小値をとるのは、３ｄグラフでは分かりにくいが、右の等高線表示では$w_0が３，w_1$では135あたりで最小となりそうである。\n",
        "\n",
        "\n",
        "## パラメータを求める（勾配法）\n",
        "\n",
        "Jが最も小さくなる$w_0とw_1$を求める最も基本的な方法は、\n",
        "\n",
        "#### 勾配法（最急降下法、steepest descent method）\n",
        "\n",
        "である。\n",
        "\n",
        "ある地点$(w_0,w_1)$に立って、周りの坂の上の方向は、Jを$w_0とw_1$で偏微分したベクトル\n",
        "$$\n",
        "\\left[\n",
        "\\frac {\\partial{J}}{\\partial{w_0}} \\frac{\\partial{J}} {\\partial{w_1}}\n",
        "\\right]^T\n",
        "$$\n",
        "\n",
        "で表される。これをＪの勾配（グラディエント$\\mathrm{grad}$）と呼び$\\nabla wJ$と表す。\n",
        "\n",
        "```$\\mathrm{grad}$   $\\nabla wJ$``` \n",
        "\n",
        "Ｊを最小にするには、Ｊの勾配の反対方向、\n",
        "$$-\\nabla wJ=\\left[\n",
        "\\frac {\\partial{J}}{\\partial{w_0}} \\frac{\\partial{J}} {\\partial{w_1}}\n",
        "\\right]^T\n",
        "$$\n",
        "\n",
        "に進んでいけばよい。w の更新方法（学習則）を行列表記で表すと、\n",
        "\n",
        "$$\n",
        "w(t+1)=w(t)-a\\nabla wJ\\mid_{w(t)}           ーーーーーーーーー⑤\n",
        "$$\n",
        "\n",
        "```w(t+1)=w(t)-a\\nabla wJ\\mid w(t)```\n",
        "\n",
        "$\\nabla wJ$はｗの関数になり、このｗに現在のｗの値w(t)を代入した値を$\\nabla wJ\\mid w(t)$と表す。\n",
        "\n",
        "このベクトルが、今いる地点 w(t) での勾配を表すことになる。a,は、学習率と呼ばれる正の値をとるパラメータで、w の更新の幅を調整する。\n",
        "\n",
        "$\n",
        "\\begin\n",
        "学習率とは、機械学習の最適化においてどのくらい値を動かすかというパラメーター。\n",
        "学習率を大きくしすぎると発散し、小さくしすぎると収束まで遅くなる。\n",
        "$\n",
        "\n",
        "学習率を成分表記で表すと、次のようになる。\n",
        "\n",
        "$$\n",
        "w_0(t+1)=w_0(t) - \\alpha \\frac{\\partial J}{\\partial w_0}\\mid_{w_0(t),w_1(t)}       ーーーーー⑥\n",
        "$$\n",
        "\n",
        "$$\n",
        "w_1(t+1)=w_1(t) - \\alpha \\frac{\\partial J}{\\partial w_1}\\mid_{w_0(t),w_1(t)}       ーーーーー⑦\n",
        "$$\n",
        "\n",
        "具体的にこの偏微分を計算してみる。③式の$y_n$の部分を直線の式④で置き換えると、次のようになる。\n",
        "\n",
        "$$\n",
        "J = \\frac{1}{N}\\sum_{n=0}^{N-1}(y_n-t_n)^2 = \\frac{1}{N}\\sum_{n=0}^{N-1}(w_0x_n+w_1-t_n)^2　ーーーー⑧\n",
        "$$\n",
        "\n",
        "式⑥の$w_0$に関する偏微分の部分を連鎖律で計算すると、\n",
        "\n",
        "$$\n",
        "\\frac{\\partial J}{\\partial w_0}=\\frac{2}{N}\\sum_{n=0}^{N-1}(w_0x_n+w_1-t_n)x_n=\\frac{2}{N}\\sum_{n=0}^{N-1}(y_n-t_n)x_n　　　ーーーー⑨\n",
        "$$\n",
        "\n",
        "（$w_0w_n+w_1をy_n$に戻している）同様にして、式③を$w_1$で偏微分すると、\n",
        "\n",
        "$$\n",
        "\\frac{\\partial J}{\\partial w_1}=\\frac{2}{N}\\sum_{n=0}^{N-1}(w_0x_n+w_1-t_n)=\\frac{2}{N}\\sum_{n=0}^{N-1}(y_n-t_n)　　　　ーーーーー⑩\n",
        "$$\n",
        "\n",
        "よって、式⑥、⑦の学習則は式⑪、⑫のようになる。\n",
        "\n",
        "$$\n",
        "w_0(t+1)=w_0(t)-\\alpha \\frac{2}{N}\\sum_{n=0}^{N-1}(y_n-t_n)x_n　　　　　　ーーーーーー⑪\n",
        "$$\n",
        "\n",
        "$$\n",
        "w_1(t+1)=w_1(t)-\\alpha \\frac{2}{N}\\sum_{n=0}^{N-1}(y_n-t_n)　　　　　　　ーーーーーー⑫\n",
        "$$\n",
        "\n",
        "リスト　５−１−(7)で勾配を計算する関数 dmse_line(x, t, w)を作成し、引数にデータ x, t とパラメータ w を渡すと\n",
        "w における勾配 d_w0, d_w1 を返す。"
      ]
    },
    {
      "metadata": {
        "id": "ILSer2uJPHV8",
        "colab_type": "code",
        "colab": {}
      },
      "cell_type": "code",
      "source": [
        "# リスト　５−１−(7)\n",
        "\n",
        "# 平均二乗誤差の勾配\n",
        "\n",
        "def dmse_line(x, t, w):\n",
        "    y = w[0] * x + w[1]\n",
        "    d_w0 = 2 * np.mean((y-t)*x)\n",
        "    d_w1 = 2 * np.mean(y-t)\n",
        "    return d_w0, d_w1"
      ],
      "execution_count": 0,
      "outputs": []
    },
    {
      "metadata": {
        "id": "ZuLL5vfXPHV_",
        "colab_type": "code",
        "outputId": "a05cb1cc-8715-46d7-dc64-526bdf09c3d1",
        "colab": {
          "base_uri": "https://localhost:8080/",
          "height": 34
        }
      },
      "cell_type": "code",
      "source": [
        "# リスト　５−１−(8)\n",
        "\n",
        "d_w = dmse_line(X, T, [10, 165])\n",
        "print(np.round(d_w, 1))"
      ],
      "execution_count": 11,
      "outputs": [
        {
          "output_type": "stream",
          "text": [
            "[5046.3  301.8]\n"
          ],
          "name": "stdout"
        }
      ]
    },
    {
      "metadata": {
        "id": "ZUNmJC1NPHWC",
        "colab_type": "text"
      },
      "cell_type": "markdown",
      "source": [
        "次のリスト５−１−(9)で、このdmse_lineを使った勾配法 fit_line_num(x,t) を実装し、データx,t を引数にして、mse_lineを最小にするw を返す。\n",
        "w の初期値 w_init=[10.0, 165.0]からスタートさせる。この更新ステップの幅である学習率は alpha = 0.001とする。\n"
      ]
    },
    {
      "metadata": {
        "id": "R_j93_jwPHWC",
        "colab_type": "code",
        "outputId": "5b902c8d-feba-4f25-9749-e218bb7febaf",
        "colab": {
          "base_uri": "https://localhost:8080/",
          "height": 336
        }
      },
      "cell_type": "code",
      "source": [
        "# リスト　５−１−(9)\n",
        "\n",
        "# 勾配法\n",
        "\n",
        "def fit_line_num(x, t):\n",
        "    w_init = [10.0, 165.0]       # 初期パラメータ\n",
        "    alpha = 0.001         # 学習率\n",
        "    i_max = 100000        # 繰り返しの最大数\n",
        "    eps = 0.1             # 繰り返しをやめる勾配の絶対値の閾値\n",
        "    w_i=np.zeros([i_max, 2])\n",
        "    w_i[0, :]= w_init\n",
        "    for i in range(1, i_max):\n",
        "        dmse = dmse_line(x, t, w_i[i - 1])\n",
        "        w_i[i, 0] = w_i[i -1, 0] - alpha * dmse[0]\n",
        "        w_i[i, 1] = w_i[i -1, 1] - alpha * dmse[1]\n",
        "        if max(np.absolute(dmse)) < eps: # 終了判定、np.absolute は絶対値\n",
        "            break\n",
        "    w0 = w_i[i, 0]\n",
        "    w1 = w_i[i, 1]\n",
        "    w_i = w_i[:i, :]\n",
        "    return w0, w1, dmse, w_i\n",
        "\n",
        "# メイン　ーーーーーーーーーーーーーーーーーーーーーーーーー\n",
        "plt.figure(figsize=(4, 4))\n",
        "\n",
        "# MSEの等高線表示\n",
        "\n",
        "xn = 100     # 等高線解像度\n",
        "w0_range = [-25, 25]\n",
        "w1_range = [120,170]\n",
        "x0 = np.linspace(w0_range[0], w0_range[1], xn)\n",
        "x1 = np.linspace(w1_range[0], w1_range[1], xn)\n",
        "xx0, xx1 = np.meshgrid(x0, x1)\n",
        "J = np.zeros((len(x0), len(x1)))\n",
        "for i0 in range(xn):\n",
        "    for i1 in range(xn):\n",
        "        J[i1, i0]= mse_line(X, T, (x0[i0],x1[i1]))\n",
        "        \n",
        "cont = plt.contour(xx0, xx1, J, 30, colors='black',\n",
        "                  levels=(100, 1000, 10000, 100000))\n",
        "cont.clabel(fmt='%1.0f', fontsize=8)\n",
        "plt.grid(True)\n",
        "\n",
        "# 勾配法呼び出し\n",
        "W0, W1, dMSE, W_history = fit_line_num(X, T)\n",
        "\n",
        "# 結果表示\n",
        "print('繰り返し回数{0}'.format(W_history.shape[0]))\n",
        "print('W=[{0:.6f}, {1:.6f}]'.format(W0, W1))\n",
        "print('dMSE=[{0:.6f},{1:.6f}]'.format(dMSE[0],dMSE[1]))\n",
        "print('MSE={0:.6f}'.format(mse_line(X, T, [W0, W1])))\n",
        "plt.plot(W_history[:, 0], W_history[:, 1], '.-',\n",
        "        color='gray',markersize=10, markeredgecolor='cornflowerblue')\n",
        "plt.show()"
      ],
      "execution_count": 12,
      "outputs": [
        {
          "output_type": "stream",
          "text": [
            "繰り返し回数13820\n",
            "W=[1.539947, 136.176160]\n",
            "dMSE=[-0.005794,0.099991]\n",
            "MSE=49.027452\n"
          ],
          "name": "stdout"
        },
        {
          "output_type": "display_data",
          "data": {
            "image/png": "[encoded data removed]",
            "text/plain": [
              "<matplotlib.figure.Figure at 0x7efcd68f1438>"
            ]
          },
          "metadata": {
            "tags": []
          }
        }
      ]
    },
    {
      "metadata": {
        "id": "fVQVEWgTPHWF",
        "colab_type": "code",
        "outputId": "eefaa6c2-9941-4751-9144-a36f4401a85e",
        "colab": {
          "base_uri": "https://localhost:8080/",
          "height": 298
        }
      },
      "cell_type": "code",
      "source": [
        "# リスト　５−１−(10)\n",
        "\n",
        "# 線の表示\n",
        "def show_line(w):\n",
        "    xb = np.linspace(X_min, X_max, 100)\n",
        "    y = w[0] * xb + w[1]\n",
        "    plt.plot(xb, y, color=(.5, .5, .5), linewidth=4)\n",
        "    \n",
        "# メイン  --------------------\n",
        "\n",
        "plt.figure(figsize=(4, 4))\n",
        "W = np.array([W0, W1])\n",
        "mse = mse_line(X, T, W)\n",
        "print(\"w0={0:.3f}, w1={1:.3f}\" .format(W0, W1))\n",
        "print(\"SD={0:.3f} cm\".format(np.sqrt(mse)))\n",
        "show_line(W)\n",
        "plt.plot(X, T, marker='o', linestyle='None',\n",
        "        color='cornflowerblue', markeredgecolor='black')\n",
        "plt.xlim(X_min, X_max)\n",
        "plt.grid(True)\n",
        "plt.show()"
      ],
      "execution_count": 13,
      "outputs": [
        {
          "output_type": "stream",
          "text": [
            "w0=1.540, w1=136.176\n",
            "SD=7.002 cm\n"
          ],
          "name": "stdout"
        },
        {
          "output_type": "display_data",
          "data": {
            "image/png": "[encoded data removed]",
            "text/plain": [
              "<matplotlib.figure.Figure at 0x7efcd68bca90>"
            ]
          },
          "metadata": {
            "tags": []
          }
        }
      ]
    },
    {
      "metadata": {
        "id": "ZPRNgL0yPHWH",
        "colab_type": "text"
      },
      "cell_type": "markdown",
      "source": [
        "リスト５−１−(4)による平均二乗誤差（MSE)は49.03$cm^2$であったが、これは文字道り誤差を二乗しているので、平方根$\\sqrt{49.03}$\n",
        "をとると、7.002$cm^2$となる。\n",
        "\n",
        "この平均二乗誤差の平方根を$\\mathbf{標準偏差(standard deviation, SD)}$と呼ぶ。\n",
        "\n",
        "リスト５−１−(10)でも、SD=7.002cmとなっている。\n",
        "\n",
        "誤差が正規分布に従っていると仮定したとき、全体の６８％のデータ点で誤差が7.00cm以下となる。正規分布の場合、平均からのズレがプラスマイナスSDの範囲に、分布の６８％が入るからである。\n",
        "このように、Jの勾配さえ求めることができれば、最小二乗法で極小値を求めることができる。"
      ]
    },
    {
      "metadata": {
        "id": "xBk1y1CsPHWI",
        "colab_type": "text"
      },
      "cell_type": "markdown",
      "source": [
        "## 直線モデルパラメータの解析解\n",
        "\n",
        "勾配法は繰り返しの計算によって近似的な値を求める計算法であり、このような解を$\\mathbf{数値解}$と呼ぶ。これに対して方程式を解くことによって厳密な解を求める解を$\\mathbf{解析解}$と呼ぶ。\n",
        "\n",
        "Jが極小となる地点ｗを探すことは、その地点での傾きが０である地点なので、$\\partial J/\\partial w_0=0 と \\partial J/\\partial w_1=0 を満たすw_0とw_1$を見つければ良いことになる。よって、式⑨、⑩を＝０とおいた式から出発する。\n",
        "\n",
        "$$\n",
        "\\frac{\\partial J}{\\partial w_0}=\\frac{2}{N}\\sum_{n=0}^{N-1}(w_0x_n+w_1-t_n)x_n=0         -----------⑬\n",
        "$$\n",
        "\n",
        "$$\n",
        "\\frac{\\partial J}{\\partial w_1}=\\frac{2}{N}\\sum_{n=0}^{N-1}(w_0x_n+w_1-t_n)=0             -----------⑭\n",
        "$$\n",
        "\n",
        "式⑬で、両辺を２で割ると\n",
        "\n",
        "$$\n",
        "\\frac{1}{N}\\sum_{n=0}^{N-1}(w_0x_n+w_1-t_n)x_n=0      ----------⑮\n",
        "$$\n",
        "\n",
        "式⑮の和の記号を各項に展開すると\n",
        "\n",
        "$$\n",
        "\\frac{1}{N}\\sum_{n=0}^{N-1}w_0x_n^2+\\frac{1}{N}\\sum_{n=0}^{N-1}w_1x_n-\\frac{1}{N}\\sum_{n=0}^{M-1}t_nx_n=0   ------⑯\n",
        "$$\n",
        "\n",
        "第一項の$w_0及び第二項のw_1$はｎに関係ない定数なので和の記号の外に出して\n",
        "\n",
        "$$\n",
        "w_0\\frac{1}{N}\\sum_{n=0}^{N-1}x_n^2+w_1\\frac{1}{N}\\sum_{n=0}^{N-1}x_n-\\frac{1}{N}\\sum_{n=0}^{N-1}t_nx_n=0----------⑰\n",
        "$$\n",
        "\n",
        "第一項の$\\frac{1}{N}\\sum_{n=0}^{N-1}x_n^2$は、入力データｘの二乗の平均を表し、\n",
        "\n",
        "第二項の$\\frac{1}{N}\\sum_{n=0}^{N-1}x_n$は、入力データの平均、そして\n",
        "\n",
        "第三項の$\\frac{1}{N}\\sum_{n=0}^{N-1}t_nx_n$は、目標データと入力データの積の平均を表している。\n",
        "\n",
        "そこで、これらを以下のように表すことにする。\n",
        "\n",
        "$$\n",
        "<x^2>=\\frac{1}{N}\\sum_{n=0}^{N-1}x_n^2 ,~~~~ <x>=\\frac{1}{N}\\sum_{n=0}^{N-1}x_n, ~~~~ <t_x>=\\frac{1}{N}\\sum_{n=0}^{N-1}t_nx_n\n",
        "$$\n",
        "\n",
        "一般的に、$<f(x)>でf(x)$の平均を表す。すると、式⑯は以下のようになる。\n",
        "\n",
        "$$\n",
        "w_0<x^2>+w_1<x>-<tx>=0       --------⑱\n",
        "$$\n",
        "\n",
        "同じように、式⑯は以下のようになる。\n",
        "\n",
        "$$\n",
        "w_0<x>+w_1-<t>=0      --------⑲\n",
        "$$\n",
        "\n",
        "ここで、$<t>=\\frac{1}{N}\\sum_{n=0}^{N-1}t_n$です。\n",
        "\n",
        "後は式⑱と式⑲を連立方程式として、$w_0とw_1$を求める。式⑲を以下のように変更して、式⑱に代入して、$w_0=$の形に整理する。\n",
        "\n",
        "$$\n",
        "w_1=<t>-w_0<x>\n",
        "$$\n",
        "\n",
        "すると、次を得る。\n",
        "\n",
        "$$\n",
        "w_0=\\frac{<tx>-<t><x>}{<x^2>-<x>^2}      -------------⑳\n",
        "$$\n",
        "\n",
        "この$w_0を使ってw_1$も求まる。\n",
        "\n",
        "$$\n",
        "w_1=<t>-w_0<x>~=~<t>-\\frac{<tx>-<t><x>}{<x^2>-<x>^2}<x>   --------㉑\n",
        "$$\n",
        "\n",
        "この式⑳、㉑がｗの解析解になる。ここで、$<x^2>は、x^2の平均、<x>^2は<x>$の二乗であることに注意。\n",
        "\n",
        "入力データXと目標データTの値をこの式に入れてｗを求める。"
      ]
    },
    {
      "metadata": {
        "id": "YyKLqV-3PHWJ",
        "colab_type": "code",
        "outputId": "12586a73-9714-496d-c833-401226b85d86",
        "colab": {
          "base_uri": "https://localhost:8080/",
          "height": 298
        }
      },
      "cell_type": "code",
      "source": [
        "# リスト５−１−(11)\n",
        "\n",
        "# 解析解\n",
        "\n",
        "def fit_line(x, t):\n",
        "    mx = np.mean(x)\n",
        "    mt = np.mean(t)\n",
        "    mtx = np.mean(t*x)\n",
        "    mxx = np.mean(x*x)\n",
        "    w0 = (mtx - mt*mx)/(mxx - mx**2)\n",
        "    w1 = mt - w0*mx\n",
        "    return np.array([w0, w1])\n",
        "\n",
        "# メインーーーーーーーー\n",
        "w = fit_line(X, T)\n",
        "print(\"w0={0:.3f}, w1={1:.3f}\" .format(w[0],w[1]))\n",
        "mse = mse_line(X, T, W)\n",
        "print(\"SD={0:.3f}cm\" .format(np.sqrt(mse)))\n",
        "plt.figure(figsize=(4,4))\n",
        "show_line(w)\n",
        "plt.plot(X, T, marker='o', linestyle='None',\n",
        "        color='cornflowerblue', markeredgecolor='black')\n",
        "plt.xlim(X_min, X_max)\n",
        "plt.grid(True)\n",
        "plt.show()"
      ],
      "execution_count": 14,
      "outputs": [
        {
          "output_type": "stream",
          "text": [
            "w0=1.558, w1=135.872\n",
            "SD=7.002cm\n"
          ],
          "name": "stdout"
        },
        {
          "output_type": "display_data",
          "data": {
            "image/png": "[encoded data removed]",
            "text/plain": [
              "<matplotlib.figure.Figure at 0x7efcd68a1470>"
            ]
          },
          "metadata": {
            "tags": []
          }
        }
      ]
    },
    {
      "metadata": {
        "id": "tOvG9lawPHWL",
        "colab_type": "code",
        "colab": {}
      },
      "cell_type": "code",
      "source": [
        ""
      ],
      "execution_count": 0,
      "outputs": []
    }
  ]
}